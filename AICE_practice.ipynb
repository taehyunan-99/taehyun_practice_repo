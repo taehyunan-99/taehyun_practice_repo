{
 "cells": [
  {
   "cell_type": "markdown",
   "id": "5ffffa07",
   "metadata": {},
   "source": [
    "## Numpy\n",
    "-  배열(Array) 생성 및 확인"
   ]
  },
  {
   "cell_type": "code",
   "execution_count": 18,
   "id": "9af5b07f",
   "metadata": {},
   "outputs": [
    {
     "name": "stdout",
     "output_type": "stream",
     "text": [
      "1차원 배열 [1 2 3 4 5]\n",
      "\n",
      "배열의 자료형 int64\n",
      "\n",
      "2차원 배열 [[1 2 3]\n",
      " [4 5 6]]\n",
      "\n",
      "배열의 크기 6\n",
      "배열의 형태 (2, 3)\n",
      "배열의 차원 2\n",
      "\n",
      "배열의 합 21\n",
      "배열의 평균 3.5\n",
      "배열의 최대값 6\n",
      "배열의 최소값 1\n",
      "\n",
      "천지된 배열 [[1 4]\n",
      " [2 5]\n",
      " [3 6]]\n"
     ]
    }
   ],
   "source": [
    "import numpy as np # numpy 라이브러리 불러오기\n",
    "# 1차원 배열 생성\n",
    "array = np.array([1,2,3,4,5])\n",
    "print(\"1차원 배열\", array)\n",
    "\n",
    "print()\n",
    "\n",
    "# 배열의 자료형 확인\n",
    "print(\"배열의 자료형\", array.dtype)\n",
    "\n",
    "print()\n",
    "\n",
    "# 2차원 배열 생성\n",
    "matrix = np.array([[1,2,3], [4,5,6]])\n",
    "print(\"2차원 배열\", matrix)\n",
    "\n",
    "print()\n",
    "\n",
    "# 배열의 크기\n",
    "print(\"배열의 크기\", matrix.size)\n",
    "# 배열의 형태\n",
    "print(\"배열의 형태\", matrix.shape)\n",
    "# 배열의 차원\n",
    "print(\"배열의 차원\", matrix.ndim)\n",
    "\n",
    "print()\n",
    "\n",
    "# 배열의 합과 평균\n",
    "print(\"배열의 합\", np.sum(matrix))\n",
    "print(\"배열의 평균\", np.mean(matrix))\n",
    "# 배열의 최대값과 최소값\n",
    "print(\"배열의 최대값\", np.max(matrix))\n",
    "print(\"배열의 최소값\", np.min(matrix))\n",
    "\n",
    "print()\n",
    "\n",
    "# 배열의 전치 : 행과 열을 바꿈\n",
    "transposed = matrix.T\n",
    "print(\"천지된 배열\", transposed)"
   ]
  }
 ],
 "metadata": {
  "kernelspec": {
   "display_name": "Python 3",
   "language": "python",
   "name": "python3"
  },
  "language_info": {
   "codemirror_mode": {
    "name": "ipython",
    "version": 3
   },
   "file_extension": ".py",
   "mimetype": "text/x-python",
   "name": "python",
   "nbconvert_exporter": "python",
   "pygments_lexer": "ipython3",
   "version": "3.13.4"
  }
 },
 "nbformat": 4,
 "nbformat_minor": 5
}
