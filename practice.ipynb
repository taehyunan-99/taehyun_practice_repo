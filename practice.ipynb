{
 "cells": [
  {
   "cell_type": "markdown",
   "id": "326261d4",
   "metadata": {},
   "source": [
    "## Practice"
   ]
  },
  {
   "cell_type": "code",
   "execution_count": null,
   "id": "442f5be1",
   "metadata": {},
   "outputs": [],
   "source": [
    "# 문제 1. 문자열 검사기\n",
    "\n",
    "# 1. 문자 입력받기\n",
    "# 2. 모음을 담은 리스트 생성\n",
    "# 3. 모음의 수를 카운트할 변수 초기화\n",
    "# 4. 입력받은 문자열 한글자씩 불러오기\n",
    "# 5.    불러온 문자열이 모음이라면\n",
    "# 6.        카운트 증가\n",
    "# 7. 최종 카운트 값 출력\n",
    "\n",
    "word = input()\n",
    "vowels = [\"a\", \"e\", \"i\", \"o\", \"u\"]\n",
    "count = 0\n",
    "\n",
    "for i in word:\n",
    "    if i in vowels:\n",
    "        count += 1\n",
    "\n",
    "print(count)"
   ]
  },
  {
   "cell_type": "code",
   "execution_count": null,
   "id": "6bf856d3",
   "metadata": {},
   "outputs": [],
   "source": [
    "# 문제 2. 짝수만 저장하기\n",
    "\n",
    "# 1. 정수 10개 입력받기\n",
    "# 2. 짝수만 담을 리스트 생성\n",
    "# 3. 입력받은 정수를 하나씩 불러오기\n",
    "# 4.    불러온 정수가 짝수라면\n",
    "# 5.        짝수 리스트에 추가\n",
    "# 6. 짝수 리스트 출력\n",
    "# 7. 짝수 리스트의 합계 출력\n",
    "\n",
    "nums = input(\"정수 10개 입력(숫자간 ','로 구분)\").split(',')\n",
    "int_nums = []\n",
    "select_nums = []\n",
    "\n",
    "for i in nums:\n",
    "    int_nums.append(int(i))\n",
    "\n",
    "for j in int_nums:\n",
    "    if j % 2 == 0:\n",
    "        select_nums.append(j)\n",
    "\n",
    "print(f\"입력 : {int_nums}\")\n",
    "print(f\"짝수 리스트 : {select_nums}\")\n",
    "print(f\"합계 : {sum(select_nums)}\")"
   ]
  },
  {
   "cell_type": "code",
   "execution_count": null,
   "id": "0a3e600d",
   "metadata": {},
   "outputs": [],
   "source": [
    "# 문제 3. 별 피라미드 만들기\n",
    "\n",
    "# 1. 정수 입력받기\n",
    "# 2. 입력받은 정수만큼 변수 불러오기\n",
    "# 3. 반복될때마다 * 1개씩 증가\n",
    "\n",
    "num = int(input())\n",
    "\n",
    "for i in range(1, num + 1):\n",
    "    for j in range(i):\n",
    "        print(\"*\", end=\" \")\n",
    "    print(\"\")"
   ]
  },
  {
   "cell_type": "code",
   "execution_count": null,
   "id": "08c0052d",
   "metadata": {},
   "outputs": [],
   "source": [
    "# 문제 4. 과일 찾기\n",
    "\n",
    "fruits = [\"apple\", \"banana\", \"orange\", \"mango\", \"grape\"]\n",
    "\n",
    "word = input(\"과일을 입력해주세요 :\")\n",
    "\n",
    "print(f\"입력 {word}\")\n",
    "if word in fruits:\n",
    "    print(f\"결과 : {word}은/는 리스트에 있습니다.\")\n",
    "else:\n",
    "    print(f\"{word}은/는 리스트에 없습니다.\")"
   ]
  },
  {
   "cell_type": "code",
   "execution_count": null,
   "id": "e0621755",
   "metadata": {},
   "outputs": [],
   "source": [
    "# 문제 5. 이름 길이 정리 프로그램\n",
    "\n",
    "name = input(\"이름을 입력해주세요(','로 구분) :\").split(\",\")\n",
    "\n",
    "for i in name:\n",
    "    print(f\"이름 : {i}, 길이 : {len(i)}\")"
   ]
  },
  {
   "cell_type": "code",
   "execution_count": null,
   "id": "a9d2cd66",
   "metadata": {},
   "outputs": [],
   "source": [
    "# 1번\n",
    "def sum_all(*args):\n",
    "    return sum(args)\n",
    "\n",
    "print(sum_all(1, 2, 3))      \n",
    "print(sum_all(10, 20, 30, 40)) \n",
    "print()\n",
    "\n",
    "# 2번\n",
    "def introduce(**kwargs):\n",
    "    for key, value in kwargs.items():\n",
    "        print(f\"{key} : {value}\")\n",
    "\n",
    "introduce(name=\"태현\", age=27, city=\"서울\")\n",
    "print()\n",
    "\n",
    "# 3번\n",
    "def process(*args, **kwargs):\n",
    "    sum_num = sum(args)\n",
    "    print(f\"합계 : {sum_num}\")\n",
    "    print(f\"추가 정보\")\n",
    "    for key, value in kwargs.items():\n",
    "        print(f\"{key} : {value}\")\n",
    "\n",
    "process(1, 2, 3, name=\"태현\", hobby=\"코딩\")\n",
    "print()\n",
    "\n",
    "# 4번\n",
    "def calculate_total(*prices, **options):\n",
    "    sum_price = sum(prices)\n",
    "    if options == {}:\n",
    "        return sum_price\n",
    "    else:\n",
    "        for key, value in options.items():\n",
    "            if key == \"discount\":\n",
    "                return sum_price - (sum_price * value)\n",
    "            else:\n",
    "                return \"지원하지 않는 명령입니다.\"\n",
    "    \n",
    "print(calculate_total(100, 200, 300))\n",
    "print(calculate_total(100, 200, 300, discount=0.1))\n",
    "print()\n",
    "\n",
    "# 5번\n",
    "def filter_info(needed_keys, **kwargs):\n",
    "    for key, value in kwargs.items():\n",
    "        if key in needed_keys:\n",
    "            print(f\"{key} : {value}\")\n",
    "        else:\n",
    "            continue\n",
    "\n",
    "filter_info(['name', 'age'], name='태현', age=27, city='서울')"
   ]
  },
  {
   "cell_type": "code",
   "execution_count": 1,
   "id": "51da872f",
   "metadata": {},
   "outputs": [
    {
     "name": "stdout",
     "output_type": "stream",
     "text": [
      "120\n",
      "1\n"
     ]
    }
   ],
   "source": [
    "# 재귀 함수 연습\n",
    "\n",
    "def factorial(n):\n",
    "    if n == 0:\n",
    "        return 1\n",
    "    elif n == 1:\n",
    "        return 1\n",
    "    return n * factorial(n-1)\n",
    "\n",
    "print(factorial(5))  \n",
    "print(factorial(0))  "
   ]
  },
  {
   "cell_type": "code",
   "execution_count": 6,
   "id": "70eb6846",
   "metadata": {},
   "outputs": [
    {
     "name": "stdout",
     "output_type": "stream",
     "text": [
      "olleh\n"
     ]
    }
   ],
   "source": [
    "def reverse_string(s):\n",
    "    if len(s) <= 1:\n",
    "        return s\n",
    "    return reverse_string(s[1:]) + s[0]\n",
    "\n",
    "print(reverse_string(\"hello\"))  # 출력: \"olleh\""
   ]
  },
  {
   "cell_type": "code",
   "execution_count": 15,
   "id": "4566fd36",
   "metadata": {},
   "outputs": [
    {
     "name": "stdout",
     "output_type": "stream",
     "text": [
      "8\n"
     ]
    }
   ],
   "source": [
    "def fibonacci(n):\n",
    "    if n == 0:\n",
    "        return 0\n",
    "    elif n == 1:\n",
    "        return 1\n",
    "    elif n < 0:\n",
    "        print(\"음수의 피보나치는 정의되지 않았습니다.\")\n",
    "    return fibonacci(n - 1) + fibonacci(n - 2)\n",
    "\n",
    "print(fibonacci(6))  # 출력: 8 (0, 1, 1, 2, 3, 5, 8)"
   ]
  },
  {
   "cell_type": "code",
   "execution_count": 17,
   "id": "95f2cdda",
   "metadata": {},
   "outputs": [
    {
     "name": "stdout",
     "output_type": "stream",
     "text": [
      "10\n",
      "None\n"
     ]
    }
   ],
   "source": [
    "def list_sum(lst):\n",
    "    if len(lst) == 0:\n",
    "        return None\n",
    "    elif len(lst) == 1:\n",
    "        return lst[0]\n",
    "    return lst[0] + list_sum(lst[1:])\n",
    "\n",
    "\n",
    "print(list_sum([1, 2, 3, 4]))  \n",
    "print(list_sum([]))          "
   ]
  },
  {
   "cell_type": "code",
   "execution_count": 29,
   "id": "56518283",
   "metadata": {},
   "outputs": [
    {
     "name": "stdout",
     "output_type": "stream",
     "text": [
      "[1, 4, 9, 16, 25]\n"
     ]
    }
   ],
   "source": [
    "numbers = [1, 2, 3, 4, 5]\n",
    "\n",
    "# lambda와 map을 사용하여 numbers의 각 원소를 제곱한 결과를 result에 담으세요\n",
    "result = list(map(lambda num: num ** 2, numbers))\n",
    "\n",
    "print(result)  # 출력: [1, 4, 9, 16, 25]\n"
   ]
  },
  {
   "cell_type": "code",
   "execution_count": 31,
   "id": "36e9794f",
   "metadata": {},
   "outputs": [
    {
     "name": "stdout",
     "output_type": "stream",
     "text": [
      "['apple', 'banana', 'grape']\n"
     ]
    }
   ],
   "source": [
    "words = [\"apple\", \"dog\", \"banana\", \"cat\", \"grape\"]\n",
    "\n",
    "# lambda와 filter를 사용해서 길이 5 이상인 단어만 남기세요\n",
    "result = list(filter(lambda word: len(word) >= 5, words))\n",
    "\n",
    "print(result)  # 출력: ['apple', 'banana', 'grape']\n"
   ]
  },
  {
   "cell_type": "code",
   "execution_count": 1,
   "id": "7938e6fb",
   "metadata": {},
   "outputs": [
    {
     "name": "stdout",
     "output_type": "stream",
     "text": [
      "[('지민', 95), ('태현', 80), ('수빈', 70)]\n"
     ]
    }
   ],
   "source": [
    "students = [(\"태현\", 80), (\"지민\", 95), (\"수빈\", 70)]\n",
    "\n",
    "# lambda와 sorted를 사용하여 점수 기준으로 내림차순 정렬하세요\n",
    "result = sorted(students, key=lambda score: score[1], reverse=True)\n",
    "\n",
    "print(result)\n",
    "# 출력: [('지민', 95), ('태현', 80), ('수빈', 70)]\n"
   ]
  }
 ],
 "metadata": {
  "kernelspec": {
   "display_name": "Python 3",
   "language": "python",
   "name": "python3"
  },
  "language_info": {
   "codemirror_mode": {
    "name": "ipython",
    "version": 3
   },
   "file_extension": ".py",
   "mimetype": "text/x-python",
   "name": "python",
   "nbconvert_exporter": "python",
   "pygments_lexer": "ipython3",
   "version": "3.13.4"
  }
 },
 "nbformat": 4,
 "nbformat_minor": 5
}
